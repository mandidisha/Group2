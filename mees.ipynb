{
 "cells": [
  {
   "cell_type": "code",
   "execution_count": 1,
   "metadata": {},
   "outputs": [
    {
     "name": "stdout",
     "output_type": "stream",
     "text": [
      "Collecting pandas\n",
      "  Downloading pandas-2.2.2-cp311-cp311-win_amd64.whl.metadata (19 kB)\n",
      "Collecting numpy>=1.23.2 (from pandas)\n",
      "  Downloading numpy-2.1.0-cp311-cp311-win_amd64.whl.metadata (59 kB)\n",
      "Requirement already satisfied: python-dateutil>=2.8.2 in c:\\users\\mees\\anaconda3\\envs\\introduction\\lib\\site-packages (from pandas) (2.9.0)\n",
      "Collecting pytz>=2020.1 (from pandas)\n",
      "  Downloading pytz-2024.1-py2.py3-none-any.whl.metadata (22 kB)\n",
      "Collecting tzdata>=2022.7 (from pandas)\n",
      "  Downloading tzdata-2024.1-py2.py3-none-any.whl.metadata (1.4 kB)\n",
      "Requirement already satisfied: six>=1.5 in c:\\users\\mees\\anaconda3\\envs\\introduction\\lib\\site-packages (from python-dateutil>=2.8.2->pandas) (1.16.0)\n",
      "Downloading pandas-2.2.2-cp311-cp311-win_amd64.whl (11.6 MB)\n",
      "   ---------------------------------------- 0.0/11.6 MB ? eta -:--:--\n",
      "   --- ------------------------------------ 1.0/11.6 MB 5.6 MB/s eta 0:00:02\n",
      "   ------- -------------------------------- 2.1/11.6 MB 5.3 MB/s eta 0:00:02\n",
      "   ----------- ---------------------------- 3.4/11.6 MB 5.3 MB/s eta 0:00:02\n",
      "   ------------------ --------------------- 5.2/11.6 MB 6.4 MB/s eta 0:00:02\n",
      "   --------------------------- ------------ 8.1/11.6 MB 7.7 MB/s eta 0:00:01\n",
      "   ------------------------------------- -- 11.0/11.6 MB 8.8 MB/s eta 0:00:01\n",
      "   ---------------------------------------- 11.6/11.6 MB 8.7 MB/s eta 0:00:00\n",
      "Downloading numpy-2.1.0-cp311-cp311-win_amd64.whl (12.9 MB)\n",
      "   ---------------------------------------- 0.0/12.9 MB ? eta -:--:--\n",
      "   -------- ------------------------------- 2.9/12.9 MB 14.0 MB/s eta 0:00:01\n",
      "   ---------------- ----------------------- 5.2/12.9 MB 12.8 MB/s eta 0:00:01\n",
      "   ----------------------- ---------------- 7.6/12.9 MB 12.1 MB/s eta 0:00:01\n",
      "   ------------------------------- -------- 10.2/12.9 MB 12.0 MB/s eta 0:00:01\n",
      "   ---------------------------------------  12.6/12.9 MB 12.0 MB/s eta 0:00:01\n",
      "   ---------------------------------------- 12.9/12.9 MB 11.1 MB/s eta 0:00:00\n",
      "Downloading pytz-2024.1-py2.py3-none-any.whl (505 kB)\n",
      "Downloading tzdata-2024.1-py2.py3-none-any.whl (345 kB)\n",
      "Installing collected packages: pytz, tzdata, numpy, pandas\n",
      "Successfully installed numpy-2.1.0 pandas-2.2.2 pytz-2024.1 tzdata-2024.1\n",
      "Note: you may need to restart the kernel to use updated packages.\n"
     ]
    }
   ],
   "source": [
    "pip install pandas"
   ]
  },
  {
   "cell_type": "code",
   "execution_count": 34,
   "metadata": {},
   "outputs": [
    {
     "name": "stdout",
     "output_type": "stream",
     "text": [
      "12\n",
      "Leadership / Professional Development Portfolio\n",
      "61\n",
      "['Artificial Intelligence Methods for Business', 'Business Ethics', 'Business Statistics', 'Data Presentation and Visualisation', 'Database Management', 'Digital Business Management', 'Digital Marketing Strategy', 'Emerging Technology in Digital Business', 'Leadership / Professional Development Portfolio', \"Master's Project\", 'Online Datamining', 'System Development for Marketing']\n",
      "['Emerging Technology in Digital Business', 'Digital Business Management', 'Business Statistics', 'Artificial Intelligence Methods for Business', 'Online Datamining', 'Data Presentation and Visualisation', 'Business Ethics', 'Digital Marketing Strategy', 'System Development for Marketing', \"Master's Project\", 'Leadership / Professional Development Portfolio']\n"
     ]
    }
   ],
   "source": [
    "Course = [\"Database Management\", \"Emerging Technology in Digital Business\", \"Digital Business Management\", \"Business Statistics\", \"Artificial Intelligence Methods for Business\", \"Online Datamining\", \"Data Presentation and Visualisation\", \"Business Ethics\", \"Digital Marketing Strategy\", \"System Development for Marketing\", \"Master's Project\", \"Leadership / Professional Development Portfolio\"]\n",
    "print(len(Course))\n",
    "print(Course[11])\n",
    "\n",
    "Points_Course = [5, 5, 5, 3, 5, 3, 3, 3, 4, 4, 6, 7, 8]\n",
    "print(sum(Points_Course))\n",
    "\n",
    "print(sorted(Course))\n",
    "\n",
    "del Course [0]\n",
    "print(Course)\n",
    "\n"
   ]
  },
  {
   "cell_type": "code",
   "execution_count": null,
   "metadata": {},
   "outputs": [],
   "source": []
  },
  {
   "cell_type": "code",
   "execution_count": 18,
   "metadata": {},
   "outputs": [
    {
     "name": "stdout",
     "output_type": "stream",
     "text": [
      "hey sjonnie\n"
     ]
    }
   ],
   "source": [
    "x = \"hey sjonnie\"\n",
    "print(x)\n"
   ]
  },
  {
   "cell_type": "code",
   "execution_count": 16,
   "metadata": {},
   "outputs": [
    {
     "name": "stdout",
     "output_type": "stream",
     "text": [
      "<class 'int'>\n",
      "<class 'str'>\n"
     ]
    }
   ],
   "source": [
    "x = 5\n",
    "y = 'john'\n",
    "print(type(x))\n",
    "print(type(y))"
   ]
  },
  {
   "cell_type": "code",
   "execution_count": 15,
   "metadata": {},
   "outputs": [
    {
     "name": "stdout",
     "output_type": "stream",
     "text": [
      "3\n",
      "3\n",
      "3.0\n"
     ]
    }
   ],
   "source": [
    "x = str(3)\n",
    "y = int(3)\n",
    "z = float(3)\n",
    "\n",
    "print(x)\n",
    "print(y)\n",
    "print(z)\n"
   ]
  },
  {
   "cell_type": "code",
   "execution_count": 5,
   "metadata": {},
   "outputs": [],
   "source": [
    "import pandas as pd\n",
    "import numpy as np"
   ]
  }
 ],
 "metadata": {
  "kernelspec": {
   "display_name": "Introduction",
   "language": "python",
   "name": "python3"
  },
  "language_info": {
   "codemirror_mode": {
    "name": "ipython",
    "version": 3
   },
   "file_extension": ".py",
   "mimetype": "text/x-python",
   "name": "python",
   "nbconvert_exporter": "python",
   "pygments_lexer": "ipython3",
   "version": "3.11.9"
  }
 },
 "nbformat": 4,
 "nbformat_minor": 2
}
